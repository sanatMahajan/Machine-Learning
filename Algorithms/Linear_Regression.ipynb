{
 "cells": [
  {
   "cell_type": "markdown",
   "id": "aa1f7047",
   "metadata": {},
   "source": [
    "### Q1: Implement the Simple Linear Regression for the data given below and predict the house price for a house with plot size 3000, 2000 and 1500 feet:"
   ]
  },
  {
   "cell_type": "code",
   "execution_count": 1,
   "id": "8bcd00c8",
   "metadata": {},
   "outputs": [],
   "source": [
    "import numpy as np\n",
    "import matplotlib.pyplot as plt"
   ]
  },
  {
   "cell_type": "code",
   "execution_count": 2,
   "id": "e9a125c5",
   "metadata": {},
   "outputs": [],
   "source": [
    "Y = [245,312,279,308,199,219,405,324,319,255]\n",
    "X = [1400,1600,1700,1875,1100,1550,2350,2450,1425,1700]\n",
    "N = len(Y)\n",
    "Y = np.array(Y)\n",
    "X = np.array(X)"
   ]
  },
  {
   "cell_type": "code",
   "execution_count": 3,
   "id": "0dc0bed7",
   "metadata": {},
   "outputs": [
    {
     "name": "stdout",
     "output_type": "stream",
     "text": [
      "30983750\n"
     ]
    }
   ],
   "source": [
    "sum_x = np.sum(X)\n",
    "sum_y = np.sum(Y)\n",
    "sum_xy = np.sum(X*Y)\n",
    "sum_xx =  np.sum(X*X)\n",
    "print(sum_xx)"
   ]
  },
  {
   "cell_type": "code",
   "execution_count": 4,
   "id": "e32c7191",
   "metadata": {},
   "outputs": [
    {
     "name": "stdout",
     "output_type": "stream",
     "text": [
      "m:  0.10976773783009863\n",
      "c:  98.24832962138085\n"
     ]
    }
   ],
   "source": [
    "m = (N*sum_xy-sum_x*sum_y)/(N*sum_xx-sum_x*sum_x)\n",
    "c = (sum_y-m*sum_x)/N\n",
    "print(\"m: \",m)\n",
    "print(\"c: \", c)"
   ]
  },
  {
   "cell_type": "code",
   "execution_count": 5,
   "id": "ce62a7af",
   "metadata": {},
   "outputs": [],
   "source": [
    "def predict(x):\n",
    "    return m*x+c"
   ]
  },
  {
   "cell_type": "code",
   "execution_count": 6,
   "id": "ad57dfa8",
   "metadata": {},
   "outputs": [
    {
     "name": "stdout",
     "output_type": "stream",
     "text": [
      "427.5515431116767\n"
     ]
    }
   ],
   "source": [
    "print(predict(3000))"
   ]
  },
  {
   "cell_type": "code",
   "execution_count": 7,
   "id": "554b29ea",
   "metadata": {},
   "outputs": [
    {
     "name": "stdout",
     "output_type": "stream",
     "text": [
      "317.7838052815781\n"
     ]
    }
   ],
   "source": [
    "print(predict(2000))"
   ]
  },
  {
   "cell_type": "code",
   "execution_count": 8,
   "id": "e8f32152",
   "metadata": {},
   "outputs": [
    {
     "name": "stdout",
     "output_type": "stream",
     "text": [
      "262.8999363665288\n"
     ]
    }
   ],
   "source": [
    "print(predict(1500))"
   ]
  },
  {
   "cell_type": "code",
   "execution_count": 10,
   "id": "eff4b3c6",
   "metadata": {},
   "outputs": [
    {
     "data": {
      "text/plain": [
       "Text(0, 0.5, 'House Prize')"
      ]
     },
     "execution_count": 10,
     "metadata": {},
     "output_type": "execute_result"
    },
    {
     "data": {
      "image/png": "[encoded data removed]",
      "text/plain": [
       "<Figure size 432x288 with 1 Axes>"
      ]
     },
     "metadata": {
      "needs_background": "light"
     },
     "output_type": "display_data"
    }
   ],
   "source": [
    "plt.scatter(X,Y)\n",
    "plt.plot(X,predict(X), color=\"g\")\n",
    "plt.xlabel('Square Feet')\n",
    "plt.ylabel('House Prize')"
   ]
  },
  {
   "cell_type": "markdown",
   "id": "3c932aa5",
   "metadata": {},
   "source": [
    "### Q2: Implement the Multiple Linear Regression for the data given below and predict the stock index price if interest rate is 1.5 and unemployment rate is 5.8."
   ]
  },
  {
   "cell_type": "code",
   "execution_count": 18,
   "id": "114997aa",
   "metadata": {},
   "outputs": [],
   "source": [
    "data = np.array([[2017,12,2.75,5.3],\n",
    "                [2017,11,2.5,5.3],\n",
    "                [2017,10,2.5,5.3],\n",
    "                [2017,9,2.5,5.3],\n",
    "                [2017,8,2.5,5.4],\n",
    "                [2017,7,2.5,5.6],\n",
    "                [2017,6,2.5,5.5],\n",
    "                [2017,5,2.25,5.5],\n",
    "                [2017,4,2.25,5.5],\n",
    "                [2017,3,2.25,5.6],\n",
    "                [2017,2,2,5.7],\n",
    "                [2017,1,2,5.9],\n",
    "                [2016,12,2,6],\n",
    "                [2016,11,1.75,5.9],\n",
    "                [2016,10,1.75,5.8],\n",
    "                [2016,9,1.75,6.1],\n",
    "                [2016,8,1.75,6.2],\n",
    "                [2016,7,1.75,6.1],\n",
    "                [2016,6,1.75,6.1],\n",
    "                [2016,5,1.75,6.1],\n",
    "                [2016,4,1.75,5.9],\n",
    "                [2016,3,1.75,6.2],\n",
    "                [2016,2,1.75,6.2],\n",
    "                [2016,1,1.75,6.1]])\n",
    "Y = np.array([1464,1394,1357,1293,1256,1254,1234,1195,1159,1167,1130,1075,1047,965,943,958,971,949,884,866,876,822,704,719])"
   ]
  },
  {
   "cell_type": "code",
   "execution_count": 26,
   "id": "c8f9c0cd",
   "metadata": {},
   "outputs": [
    {
     "name": "stdout",
     "output_type": "stream",
     "text": [
      "[[1.   2.75 5.3 ]\n",
      " [1.   2.5  5.3 ]\n",
      " [1.   2.5  5.3 ]\n",
      " [1.   2.5  5.3 ]\n",
      " [1.   2.5  5.4 ]\n",
      " [1.   2.5  5.6 ]\n",
      " [1.   2.5  5.5 ]\n",
      " [1.   2.25 5.5 ]\n",
      " [1.   2.25 5.5 ]\n",
      " [1.   2.25 5.6 ]\n",
      " [1.   2.   5.7 ]\n",
      " [1.   2.   5.9 ]\n",
      " [1.   2.   6.  ]\n",
      " [1.   1.75 5.9 ]\n",
      " [1.   1.75 5.8 ]\n",
      " [1.   1.75 6.1 ]\n",
      " [1.   1.75 6.2 ]\n",
      " [1.   1.75 6.1 ]\n",
      " [1.   1.75 6.1 ]\n",
      " [1.   1.75 6.1 ]\n",
      " [1.   1.75 5.9 ]\n",
      " [1.   1.75 6.2 ]\n",
      " [1.   1.75 6.2 ]\n",
      " [1.   1.75 6.1 ]]\n"
     ]
    }
   ],
   "source": [
    "X = data[:,2:]\n",
    "X = np.insert(X, 0,1,axis=1)\n",
    "print(X)"
   ]
  },
  {
   "cell_type": "code",
   "execution_count": 27,
   "id": "3efa7487",
   "metadata": {},
   "outputs": [
    {
     "name": "stdout",
     "output_type": "stream",
     "text": [
      "[1798.40397763  345.54008701 -250.14657137]\n"
     ]
    }
   ],
   "source": [
    "A = X.T.dot(X)\n",
    "B = np.linalg.inv(A)\n",
    "C = B.dot(X.T)\n",
    "beta = C.dot(Y)\n",
    "#beta = ((np.linalg.inv(X.T.dot(X))).dot(X.T)).dot(Y)\n",
    "print(beta)"
   ]
  },
  {
   "cell_type": "code",
   "execution_count": 28,
   "id": "1ff1e4a1",
   "metadata": {},
   "outputs": [],
   "source": [
    "def predict(x1,x2):\n",
    "    return beta[0]+beta[1]*x1+beta[2]*x2"
   ]
  },
  {
   "cell_type": "code",
   "execution_count": 30,
   "id": "094f84a8",
   "metadata": {},
   "outputs": [
    {
     "name": "stdout",
     "output_type": "stream",
     "text": [
      "865.8639941989197\n"
     ]
    }
   ],
   "source": [
    "print(predict(1.5,5.8))"
   ]
  }
 ],
 "metadata": {
  "kernelspec": {
   "display_name": "Python 3",
   "language": "python",
   "name": "python3"
  },
  "language_info": {
   "codemirror_mode": {
    "name": "ipython",
    "version": 3
   },
   "file_extension": ".py",
   "mimetype": "text/x-python",
   "name": "python",
   "nbconvert_exporter": "python",
   "pygments_lexer": "ipython3",
   "version": "3.8.8"
  }
 },
 "nbformat": 4,
 "nbformat_minor": 5
}
