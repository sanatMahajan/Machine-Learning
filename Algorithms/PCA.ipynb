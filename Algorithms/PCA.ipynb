{
 "cells": [
  {
   "cell_type": "code",
   "execution_count": 1,
   "id": "951821da",
   "metadata": {},
   "outputs": [],
   "source": [
    "from sklearn.datasets import load_digits\n",
    "import numpy as np\n",
    "import pandas as pd"
   ]
  },
  {
   "cell_type": "code",
   "execution_count": 2,
   "id": "b0a01bfb",
   "metadata": {},
   "outputs": [
    {
     "name": "stdout",
     "output_type": "stream",
     "text": [
      "      pixel_0_0  pixel_0_1  pixel_0_2  pixel_0_3  pixel_0_4  pixel_0_5  \\\n",
      "0           0.0        0.0        5.0       13.0        9.0        1.0   \n",
      "1           0.0        0.0        0.0       12.0       13.0        5.0   \n",
      "2           0.0        0.0        0.0        4.0       15.0       12.0   \n",
      "3           0.0        0.0        7.0       15.0       13.0        1.0   \n",
      "4           0.0        0.0        0.0        1.0       11.0        0.0   \n",
      "...         ...        ...        ...        ...        ...        ...   \n",
      "1792        0.0        0.0        4.0       10.0       13.0        6.0   \n",
      "1793        0.0        0.0        6.0       16.0       13.0       11.0   \n",
      "1794        0.0        0.0        1.0       11.0       15.0        1.0   \n",
      "1795        0.0        0.0        2.0       10.0        7.0        0.0   \n",
      "1796        0.0        0.0       10.0       14.0        8.0        1.0   \n",
      "\n",
      "      pixel_0_6  pixel_0_7  pixel_1_0  pixel_1_1  ...  pixel_6_6  pixel_6_7  \\\n",
      "0           0.0        0.0        0.0        0.0  ...        0.0        0.0   \n",
      "1           0.0        0.0        0.0        0.0  ...        0.0        0.0   \n",
      "2           0.0        0.0        0.0        0.0  ...        5.0        0.0   \n",
      "3           0.0        0.0        0.0        8.0  ...        9.0        0.0   \n",
      "4           0.0        0.0        0.0        0.0  ...        0.0        0.0   \n",
      "...         ...        ...        ...        ...  ...        ...        ...   \n",
      "1792        0.0        0.0        0.0        1.0  ...        4.0        0.0   \n",
      "1793        1.0        0.0        0.0        0.0  ...        1.0        0.0   \n",
      "1794        0.0        0.0        0.0        0.0  ...        0.0        0.0   \n",
      "1795        0.0        0.0        0.0        0.0  ...        2.0        0.0   \n",
      "1796        0.0        0.0        0.0        2.0  ...        8.0        0.0   \n",
      "\n",
      "      pixel_7_0  pixel_7_1  pixel_7_2  pixel_7_3  pixel_7_4  pixel_7_5  \\\n",
      "0           0.0        0.0        6.0       13.0       10.0        0.0   \n",
      "1           0.0        0.0        0.0       11.0       16.0       10.0   \n",
      "2           0.0        0.0        0.0        3.0       11.0       16.0   \n",
      "3           0.0        0.0        7.0       13.0       13.0        9.0   \n",
      "4           0.0        0.0        0.0        2.0       16.0        4.0   \n",
      "...         ...        ...        ...        ...        ...        ...   \n",
      "1792        0.0        0.0        2.0       14.0       15.0        9.0   \n",
      "1793        0.0        0.0        6.0       16.0       14.0        6.0   \n",
      "1794        0.0        0.0        2.0        9.0       13.0        6.0   \n",
      "1795        0.0        0.0        5.0       12.0       16.0       12.0   \n",
      "1796        0.0        1.0        8.0       12.0       14.0       12.0   \n",
      "\n",
      "      pixel_7_6  pixel_7_7  \n",
      "0           0.0        0.0  \n",
      "1           0.0        0.0  \n",
      "2           9.0        0.0  \n",
      "3           0.0        0.0  \n",
      "4           0.0        0.0  \n",
      "...         ...        ...  \n",
      "1792        0.0        0.0  \n",
      "1793        0.0        0.0  \n",
      "1794        0.0        0.0  \n",
      "1795        0.0        0.0  \n",
      "1796        1.0        0.0  \n",
      "\n",
      "[1797 rows x 64 columns]\n",
      "[0 1 2 ... 8 9 8]\n"
     ]
    }
   ],
   "source": [
    "data = load_digits()\n",
    "X = pd.DataFrame(data['data'], columns=data['feature_names'])\n",
    "Y = data.target\n",
    "print(X)\n",
    "print(Y)"
   ]
  },
  {
   "cell_type": "markdown",
   "id": "dde7ad6e",
   "metadata": {},
   "source": [
    "### Check Data Set"
   ]
  },
  {
   "cell_type": "code",
   "execution_count": 3,
   "id": "a7c41a83",
   "metadata": {},
   "outputs": [
    {
     "data": {
      "text/plain": [
       "<AxesSubplot:xlabel='count'>"
      ]
     },
     "execution_count": 3,
     "metadata": {},
     "output_type": "execute_result"
    },
    {
     "data": {
      "image/png": "[encoded data removed]",
      "text/plain": [
       "<Figure size 432x288 with 1 Axes>"
      ]
     },
     "metadata": {
      "needs_background": "light"
     },
     "output_type": "display_data"
    }
   ],
   "source": [
    "import seaborn as sb\n",
    "sb.countplot(y=Y, data=X)"
   ]
  },
  {
   "cell_type": "markdown",
   "id": "1dd437e8",
   "metadata": {},
   "source": [
    "## Preprocessing\n",
    "\n",
    "### Scaled data set"
   ]
  },
  {
   "cell_type": "code",
   "execution_count": 4,
   "id": "750ffca1",
   "metadata": {},
   "outputs": [
    {
     "name": "stdout",
     "output_type": "stream",
     "text": [
      "[[ 0.         -0.33501649 -0.04308102 ... -1.14664746 -0.5056698\n",
      "  -0.19600752]\n",
      " [ 0.         -0.33501649 -1.09493684 ...  0.54856067 -0.5056698\n",
      "  -0.19600752]\n",
      " [ 0.         -0.33501649 -1.09493684 ...  1.56568555  1.6951369\n",
      "  -0.19600752]\n",
      " ...\n",
      " [ 0.         -0.33501649 -0.88456568 ... -0.12952258 -0.5056698\n",
      "  -0.19600752]\n",
      " [ 0.         -0.33501649 -0.67419451 ...  0.8876023  -0.5056698\n",
      "  -0.19600752]\n",
      " [ 0.         -0.33501649  1.00877481 ...  0.8876023  -0.26113572\n",
      "  -0.19600752]]\n"
     ]
    }
   ],
   "source": [
    "from sklearn.preprocessing import StandardScaler\n",
    "scaler = StandardScaler()\n",
    "X_scaled = scaler.fit_transform(X)\n",
    "print(X_scaled)"
   ]
  },
  {
   "cell_type": "markdown",
   "id": "162c6072",
   "metadata": {},
   "source": [
    "### Finding Covariance Matrix"
   ]
  },
  {
   "cell_type": "code",
   "execution_count": 5,
   "id": "a018a357",
   "metadata": {},
   "outputs": [
    {
     "name": "stdout",
     "output_type": "stream",
     "text": [
      "[[ 0.          0.          0.         ...  0.          0.\n",
      "   0.        ]\n",
      " [ 0.          1.00055679  0.55692803 ... -0.02988686  0.02656195\n",
      "  -0.04391324]\n",
      " [ 0.          0.55692803  1.00055679 ... -0.04120565  0.07263924\n",
      "   0.08256908]\n",
      " ...\n",
      " [ 0.         -0.02988686 -0.04120565 ...  1.00055679  0.64868875\n",
      "   0.26213704]\n",
      " [ 0.          0.02656195  0.07263924 ...  0.64868875  1.00055679\n",
      "   0.62077355]\n",
      " [ 0.         -0.04391324  0.08256908 ...  0.26213704  0.62077355\n",
      "   1.00055679]]\n"
     ]
    }
   ],
   "source": [
    "features = X_scaled.T\n",
    "cov_matrix = np.cov(features)\n",
    "print(cov_matrix)"
   ]
  },
  {
   "cell_type": "markdown",
   "id": "1d85daa1",
   "metadata": {},
   "source": [
    "### Finding Eigen Values and Eigen vector"
   ]
  },
  {
   "cell_type": "code",
   "execution_count": 6,
   "id": "789e8243",
   "metadata": {},
   "outputs": [
    {
     "name": "stdout",
     "output_type": "stream",
     "text": [
      "(64,)\n",
      "[7.34477606 5.83549054 5.15396118 3.96623597 2.9663452  2.57204442\n",
      " 2.40600941 2.06867355 1.82993314 1.78951739 1.69784616 1.57287889\n",
      " 1.38870781 1.35933609 1.32152536 1.16829176 1.08368678 0.99977862\n",
      " 0.97438293 0.90891242 0.82271926 0.77631014 0.71155675 0.64552365\n",
      " 0.59527399 0.5765018  0.52673155 0.5106363  0.48686381 0.45560107\n",
      " 0.44285155 0.42230086 0.3991063  0.39110111 0.36094517 0.34860306\n",
      " 0.3195963  0.29406627 0.05037444 0.27692285 0.06328961 0.258273\n",
      " 0.24783029 0.2423566  0.07635394 0.08246812 0.09018543 0.09840876\n",
      " 0.10250434 0.11188655 0.11932898 0.12426371 0.13321081 0.14311427\n",
      " 0.217582   0.15818474 0.16875236 0.20799593 0.17612894 0.2000909\n",
      " 0.18983516 0.         0.         0.        ]\n",
      "(64, 64)\n",
      "[[ 0.          0.          0.         ...  1.          0.\n",
      "   0.        ]\n",
      " [ 0.18223392 -0.04702701  0.02358821 ...  0.          0.\n",
      "   0.        ]\n",
      " [ 0.285868   -0.0595648  -0.05679875 ...  0.          0.\n",
      "   0.        ]\n",
      " ...\n",
      " [ 0.103198    0.24261778 -0.02227952 ...  0.          0.\n",
      "   0.        ]\n",
      " [ 0.1198106   0.16508926  0.10036559 ...  0.          0.\n",
      "   0.        ]\n",
      " [ 0.07149362  0.07132924  0.09244589 ...  0.          0.\n",
      "   0.        ]]\n"
     ]
    }
   ],
   "source": [
    "e_values, e_vectors = np.linalg.eig(cov_matrix)\n",
    "print(e_values.shape)\n",
    "print(e_values)\n",
    "print(e_vectors.shape)\n",
    "print(e_vectors)"
   ]
  },
  {
   "cell_type": "markdown",
   "id": "f225a4a7",
   "metadata": {},
   "source": [
    "### Selecting number of features on the basis of contribution (eigen values)"
   ]
  },
  {
   "cell_type": "code",
   "execution_count": 7,
   "id": "e41b198c",
   "metadata": {},
   "outputs": [
    {
     "name": "stdout",
     "output_type": "stream",
     "text": [
      "[0.12033916097734897, 0.09561054403097853, 0.08444414892624579, 0.06498407907524172, 0.04860154875966408, 0.04214119869271948, 0.03942082803567393, 0.03389380924638335, 0.029982210116252322, 0.029320025512522115, 0.027818054635503287, 0.025770550925819945, 0.02275303315764249, 0.02227179739514349, 0.021652294318492468, 0.01914166606442125, 0.017755470851681956, 0.01638069274284422, 0.015964601688623403, 0.014891911870878176, 0.0134796956581794, 0.012719313702347568, 0.011658373505919506, 0.010576465985363222, 0.009753159471981104, 0.00944558989731997, 0.00863013826970724, 0.008366428536685129, 0.00797693248411244, 0.007464713709260609, 0.007255821513702744, 0.006919112454811818, 0.006539085355726159, 0.006407925738459852, 0.005913841117223431, 0.005711624052235228, 0.005236368034166363, 0.004818075864451417, 0.0008253509448180289, 0.004537192598584486, 0.001036957301557182, 0.004231627532327793, 0.004060530699790377, 0.003970848082758282, 0.001251007424973019, 0.001351184113370858, 0.0014776269410608817, 0.0016123606225672696, 0.0016794638749558233, 0.0018331849919718147, 0.0019551242601981737, 0.002035976345253757, 0.002182568577120076, 0.0023448300553563436, 0.0035649330314261717, 0.0025917494088146436, 0.002764892635235446, 0.0034078718147030006, 0.002885752941089337, 0.00327835335287954, 0.003110320073453564, 0.0, 0.0, 0.0]\n"
     ]
    }
   ],
   "source": [
    "percent_var =[]\n",
    "for i in range(len(e_values)):\n",
    "    percent_var.append(e_values[i]/np.sum(e_values))\n",
    "print(percent_var)"
   ]
  },
  {
   "cell_type": "code",
   "execution_count": 8,
   "id": "0468edd8",
   "metadata": {},
   "outputs": [
    {
     "name": "stdout",
     "output_type": "stream",
     "text": [
      "0 .  12.033916097734897  %\n",
      "1 .  21.59497050083275  %\n",
      "2 .  30.03938539345733  %\n",
      "3 .  36.537793300981505  %\n",
      "4 .  41.397948176947914  %\n",
      "5 .  45.61206804621986  %\n",
      "6 .  49.554150849787256  %\n",
      "7 .  52.943531774425594  %\n",
      "8 .  55.94175278605083  %\n",
      "9 .  58.87375533730304  %\n",
      "10 .  61.655560800853365  %\n",
      "11 .  64.23261589343537  %\n",
      "12 .  66.50791920919961  %\n",
      "13 .  68.73509894871397  %\n",
      "14 .  70.90032838056321  %\n",
      "15 .  72.81449498700533  %\n",
      "16 .  74.59004207217353  %\n",
      "17 .  76.22811134645795  %\n",
      "18 .  77.82457151532029  %\n",
      "19 .  79.3137627024081  %\n",
      "20 .  80.66173226822603  %\n",
      "21 .  81.93366363846079  %\n",
      "22 .  83.09950098905274  %\n",
      "23 .  84.15714758758907  %\n",
      "24 .  85.13246353478718  %\n",
      "25 .  86.07702252451918  %\n",
      "26 .  86.94003635148991  %\n",
      "27 .  87.77667920515842  %\n",
      "28 .  88.57437245356967  %\n",
      "29 .  89.32084382449573  %\n",
      "30 .  90.046425975866  %\n",
      "31 .  90.73833722134718  %\n",
      "32 .  91.39224575691979  %\n",
      "33 .  92.03303833076578  %\n",
      "34 .  92.62442244248813  %\n",
      "35 .  93.19558484771164  %\n",
      "36 .  93.71922165112828  %\n",
      "37 .  94.20102923757342  %\n",
      "38 .  94.28356433205522  %\n",
      "39 .  94.73728359191367  %\n",
      "40 .  94.84097932206939  %\n",
      "41 .  95.26414207530216  %\n",
      "42 .  95.6701951452812  %\n",
      "43 .  96.06727995355703  %\n",
      "44 .  96.19238069605433  %\n",
      "45 .  96.32749910739142  %\n",
      "46 .  96.47526180149751  %\n",
      "47 .  96.63649786375424  %\n",
      "48 .  96.80444425124982  %\n",
      "49 .  96.987762750447  %\n",
      "50 .  97.18327517646682  %\n",
      "51 .  97.3868728109922  %\n",
      "52 .  97.60512966870421  %\n",
      "53 .  97.83961267423985  %\n",
      "54 .  98.19610597738246  %\n",
      "55 .  98.45528091826392  %\n",
      "56 .  98.73177018178747  %\n",
      "57 .  99.07255736325777  %\n",
      "58 .  99.36113265736671  %\n",
      "59 .  99.68896799265467  %\n",
      "60 .  100.00000000000003  %\n",
      "61 .  100.00000000000003  %\n",
      "62 .  100.00000000000003  %\n",
      "63 .  100.00000000000003  %\n"
     ]
    }
   ],
   "source": [
    "contribute = 0\n",
    "for i in range(len(percent_var)):\n",
    "    contribute += percent_var[i]*100\n",
    "    print(i, '. ', contribute, \" %\")\n"
   ]
  },
  {
   "cell_type": "code",
   "execution_count": 9,
   "id": "60042313",
   "metadata": {},
   "outputs": [
    {
     "name": "stdout",
     "output_type": "stream",
     "text": [
      "           PC1       PC2       PC3       PC4       PC5       PC6       PC7  \\\n",
      "0    -1.914214  0.954502 -3.946035 -2.028723 -0.267173  0.530327  1.415321   \n",
      "1    -0.588980 -0.924636  3.924755  1.779850 -0.993430 -0.675652 -1.878565   \n",
      "2    -1.302039  0.317189  3.023333  2.043376 -2.081155  0.935121  1.296200   \n",
      "3     3.020770  0.868772 -0.801744  2.187039 -0.556813  0.727124 -0.959766   \n",
      "4    -4.528949  1.093480  0.973121  1.419510 -1.715106  1.431592 -1.073649   \n",
      "...        ...       ...       ...       ...       ...       ...       ...   \n",
      "1792 -0.104331 -0.255024 -3.765861  1.947006 -0.190094 -0.555760 -0.531222   \n",
      "1793 -2.423234  1.429611 -3.045245 -2.632089 -0.822902  0.004061  1.106872   \n",
      "1794 -1.022596  0.147911  2.469974  0.620307 -0.972043 -0.007377 -0.381115   \n",
      "1795 -1.076055  0.380906 -2.455487  1.312013  0.253533 -0.638322 -1.034470   \n",
      "1796  1.257702  2.227591  0.283628  0.127073 -1.570173  2.342953  0.383075   \n",
      "\n",
      "           PC8       PC9      PC10  ...      PC42      PC43      PC44  \\\n",
      "0     1.496062  0.124914  0.822246  ...  0.321931 -0.013868  0.045772   \n",
      "1     0.556336  1.079877 -0.087451  ... -0.489143  0.001026 -0.203051   \n",
      "2     1.156160  0.785606  1.099206  ...  0.545834  0.344005  0.462975   \n",
      "3    -1.382638  0.259075 -0.744555  ... -0.050325 -0.500999  0.599837   \n",
      "4    -0.968240 -1.660216 -1.174593  ...  0.184994  0.184324 -1.112588   \n",
      "...        ...       ...       ...  ...       ...       ...       ...   \n",
      "1792  0.476475  1.152430  0.473054  ... -0.285562  0.152253 -0.457416   \n",
      "1793  2.330903  0.569455  1.654173  ... -0.404112 -0.502122 -0.554650   \n",
      "1794  0.529064  2.054709  2.036838  ...  1.208864  0.530791  0.644813   \n",
      "1795  0.763325  1.077474  0.334527  ... -0.443400 -0.173600 -0.279893   \n",
      "1796 -1.200566  0.816831  1.825428  ...  1.321372 -0.160506  0.986537   \n",
      "\n",
      "          PC45      PC46      PC47      PC48      PC49      PC50  number  \n",
      "0    -0.009390 -0.486203 -0.152393  0.184659  0.217284  0.017914       0  \n",
      "1     0.090586  0.422479 -0.511874 -0.267950  0.005322  0.395305       1  \n",
      "2    -0.444446 -0.034327  0.112209 -0.067011  0.178624  0.310967       2  \n",
      "3    -0.275277  0.153687  0.018912 -0.264125 -0.115443  0.759133       3  \n",
      "4     0.122873 -0.157340  0.292078  0.098695 -0.335099 -0.281930       4  \n",
      "...        ...       ...       ...       ...       ...       ...     ...  \n",
      "1792  0.041755  0.301991 -0.041558  0.255690 -0.172645  0.082703       9  \n",
      "1793 -0.422494  0.183744 -0.249359  0.424451 -0.186876  0.275664       0  \n",
      "1794 -0.442114 -0.081608  0.002683  0.048974 -0.177343 -0.294003       8  \n",
      "1795  0.300143 -0.083542 -0.098597  0.025126 -0.320746  0.377716       9  \n",
      "1796 -0.343452  0.520580  0.209978 -0.377748 -0.245739 -0.088887       8  \n",
      "\n",
      "[1797 rows x 51 columns]\n"
     ]
    }
   ],
   "source": [
    "res = pd.DataFrame()\n",
    "for i in range(50): #1st 50 features are selected \n",
    "    PC = X_scaled.dot(e_vectors.T[i])\n",
    "    res['PC'+str(i+1)] = PC\n",
    "res['number'] = Y\n",
    "print(res)"
   ]
  }
 ],
 "metadata": {
  "kernelspec": {
   "display_name": "Python 3",
   "language": "python",
   "name": "python3"
  },
  "language_info": {
   "codemirror_mode": {
    "name": "ipython",
    "version": 3
   },
   "file_extension": ".py",
   "mimetype": "text/x-python",
   "name": "python",
   "nbconvert_exporter": "python",
   "pygments_lexer": "ipython3",
   "version": "3.8.8"
  }
 },
 "nbformat": 4,
 "nbformat_minor": 5
}
