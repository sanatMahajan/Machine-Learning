{
 "cells": [
  {
   "cell_type": "code",
   "execution_count": 5,
   "id": "449c073d",
   "metadata": {},
   "outputs": [
    {
     "name": "stdout",
     "output_type": "stream",
     "text": [
      "[5 5 5 5 5 5 5 5 5 5]\n"
     ]
    }
   ],
   "source": [
    "import numpy as np\n",
    "arr = np.full(10,5)\n",
    "print(arr)"
   ]
  },
  {
   "cell_type": "markdown",
   "id": "c10cb767",
   "metadata": {},
   "source": [
    "### 2. Create an array of the integers from 10 to 50"
   ]
  },
  {
   "cell_type": "code",
   "execution_count": 11,
   "id": "1b7d2c72",
   "metadata": {},
   "outputs": [
    {
     "name": "stdout",
     "output_type": "stream",
     "text": [
      "[10 11 12 13 14 15 16 17 18 19 20 21 22 23 24 25 26 27 28 29 30 31 32 33\n",
      " 34 35 36 37 38 39 40 41 42 43 44 45 46 47 48 49]\n"
     ]
    }
   ],
   "source": [
    "arr = np.arange(10, 50)\n",
    "print(arr)"
   ]
  },
  {
   "cell_type": "markdown",
   "id": "8a81018c",
   "metadata": {},
   "source": [
    "### 3. Create an array of all the even integers from 10 to 50\n"
   ]
  },
  {
   "cell_type": "code",
   "execution_count": 13,
   "id": "630ad681",
   "metadata": {},
   "outputs": [
    {
     "name": "stdout",
     "output_type": "stream",
     "text": [
      "[10 12 14 16 18 20 22 24 26 28 30 32 34 36 38 40 42 44 46 48 50]\n"
     ]
    }
   ],
   "source": [
    "arr = np.arange(10, 51, 2)\n",
    "print(arr)"
   ]
  },
  {
   "cell_type": "markdown",
   "id": "f0140c4c",
   "metadata": {},
   "source": [
    "### 4. Create a 3x3 matrix with values ranging from 0 to 8"
   ]
  },
  {
   "cell_type": "code",
   "execution_count": 16,
   "id": "617489a9",
   "metadata": {},
   "outputs": [
    {
     "name": "stdout",
     "output_type": "stream",
     "text": [
      "[[0 1 2]\n",
      " [3 4 5]\n",
      " [6 7 8]]\n"
     ]
    }
   ],
   "source": [
    "arr = np.arange(0,9).reshape(3,3)\n",
    "print(arr)"
   ]
  },
  {
   "cell_type": "markdown",
   "id": "764c9088",
   "metadata": {},
   "source": [
    "### 5. Use NumPy to generate an array of 25 random numbers sampled from a standard normal\n",
    "distribution"
   ]
  },
  {
   "cell_type": "code",
   "execution_count": 18,
   "id": "bf6b4c6d",
   "metadata": {},
   "outputs": [
    {
     "name": "stdout",
     "output_type": "stream",
     "text": [
      "[ 1.08752064 -1.30518701  0.20595618  1.54605047 -1.70268342 -0.75521241\n",
      " -0.42100803 -0.16041019 -1.02509558  0.21830021 -0.679318    0.41061158\n",
      " -0.3071508   1.43665861  0.25817267  2.0510057   0.48340661  1.65840293\n",
      "  0.36536242  0.30532257 -0.17323532  0.04945324  0.60128427 -0.43551232\n",
      " -0.2575966 ]\n"
     ]
    }
   ],
   "source": [
    "arr = np.random.normal(size=25)\n",
    "print(arr)"
   ]
  },
  {
   "cell_type": "markdown",
   "id": "b8a6f4be",
   "metadata": {},
   "source": [
    "### 6. Create the following array:\n",
    "array([0. , 0.01, 0.02, 0.03, 0.04, 0.05, 0.06, 0.07, 0.08, 0.09, 0.1 ,\n",
    " 0.11, 0.12, 0.13, 0.14, 0.15, 0.16, 0.17, 0.18, 0.19, 0.2 , 0.21,\n",
    " 0.22, 0.23, 0.24, 0.25, 0.26, 0.27, 0.28, 0.29, 0.3 , 0.31, 0.32,\n",
    " 0.33, 0.34, 0.35, 0.36, 0.37, 0.38, 0.39, 0.4 , 0.41, 0.42, 0.43,\n",
    " 0.44, 0.45, 0.46, 0.47, 0.48, 0.49, 0.5 , 0.51, 0.52, 0.53, 0.54,\n",
    " 0.55, 0.56, 0.57, 0.58, 0.59, 0.6 , 0.61, 0.62, 0.63, 0.64, 0.65,\n",
    " 0.66, 0.67, 0.68, 0.69, 0.7 , 0.71, 0.72, 0.73, 0.74, 0.75, 0.76,\n",
    " 0.77, 0.78, 0.79, 0.8 , 0.81, 0.82, 0.83, 0.84, 0.85, 0.86, 0.87,\n",
    " 0.88, 0.89, 0.9 , 0.91, 0.92, 0.93, 0.94, 0.95, 0.96, 0.97, 0.98,\n",
    " 0.99, 1. ])"
   ]
  },
  {
   "cell_type": "code",
   "execution_count": 20,
   "id": "2bf3c2e4",
   "metadata": {},
   "outputs": [
    {
     "name": "stdout",
     "output_type": "stream",
     "text": [
      "[0.   0.01 0.02 0.03 0.04 0.05 0.06 0.07 0.08 0.09 0.1  0.11 0.12 0.13\n",
      " 0.14 0.15 0.16 0.17 0.18 0.19 0.2  0.21 0.22 0.23 0.24 0.25 0.26 0.27\n",
      " 0.28 0.29 0.3  0.31 0.32 0.33 0.34 0.35 0.36 0.37 0.38 0.39 0.4  0.41\n",
      " 0.42 0.43 0.44 0.45 0.46 0.47 0.48 0.49 0.5  0.51 0.52 0.53 0.54 0.55\n",
      " 0.56 0.57 0.58 0.59 0.6  0.61 0.62 0.63 0.64 0.65 0.66 0.67 0.68 0.69\n",
      " 0.7  0.71 0.72 0.73 0.74 0.75 0.76 0.77 0.78 0.79 0.8  0.81 0.82 0.83\n",
      " 0.84 0.85 0.86 0.87 0.88 0.89 0.9  0.91 0.92 0.93 0.94 0.95 0.96 0.97\n",
      " 0.98 0.99 1.  ]\n"
     ]
    }
   ],
   "source": [
    "arr = np.arange(0.0, 1.01, 0.01)\n",
    "print(arr)"
   ]
  },
  {
   "cell_type": "markdown",
   "id": "fe712403",
   "metadata": {},
   "source": [
    "### 7. Create an array of 20 linearly spaced points between 0 and 1"
   ]
  },
  {
   "cell_type": "code",
   "execution_count": 21,
   "id": "bb4147d7",
   "metadata": {},
   "outputs": [
    {
     "name": "stdout",
     "output_type": "stream",
     "text": [
      "[0.         0.05263158 0.10526316 0.15789474 0.21052632 0.26315789\n",
      " 0.31578947 0.36842105 0.42105263 0.47368421 0.52631579 0.57894737\n",
      " 0.63157895 0.68421053 0.73684211 0.78947368 0.84210526 0.89473684\n",
      " 0.94736842 1.        ]\n"
     ]
    }
   ],
   "source": [
    "arr = np.linspace(0,1, num=20)\n",
    "print(arr)"
   ]
  },
  {
   "cell_type": "markdown",
   "id": "b9dba074",
   "metadata": {},
   "source": [
    "### 8. Generate the following matrix, mat,\n",
    "array([[ 1, 2, 3, 4, 5],\n",
    " [ 6, 7, 8, 9, 10],\n",
    " [11, 12, 13, 14, 15],\n",
    " [16, 17, 18, 19, 20],\n",
    " [21, 22, 23, 24, 25]])\n",
    "and extract the following using the indexing and slicing:\n",
    "array([[12, 13, 14, 15],\n",
    " [17, 18, 19, 20],\n",
    " [22, 23, 24, 25]])\n",
    "array([[ 2],\n",
    " [ 7],\n",
    " [12]])\n",
    "Get the sum of all the values in mat\n",
    "Get the sum of all the rows and columns in mat"
   ]
  },
  {
   "cell_type": "code",
   "execution_count": 31,
   "id": "fc61d782",
   "metadata": {},
   "outputs": [
    {
     "name": "stdout",
     "output_type": "stream",
     "text": [
      "[[ 1  2  3  4  5]\n",
      " [ 6  7  8  9 10]\n",
      " [11 12 13 14 15]\n",
      " [16 17 18 19 20]\n",
      " [21 22 23 24 25]]\n",
      "[[12 13 14 15]\n",
      " [17 18 19 20]\n",
      " [22 23 24 25]]\n",
      "[[ 2]\n",
      " [ 7]\n",
      " [12]]\n",
      "Sum of Matrix:  325\n",
      "Sum of Rows:  [ 15  40  65  90 115]\n",
      "Sum of Cols:  [55 60 65 70 75]\n"
     ]
    }
   ],
   "source": [
    "arr = np.arange(1, 26).reshape(5,5)\n",
    "print(arr)\n",
    "print(arr[2:, 1:])\n",
    "print(arr[:3, 1:2])\n",
    "print(\"Sum of Matrix: \",np.sum(arr))\n",
    "print(\"Sum of Rows: \", np.sum(arr, axis = 1))\n",
    "print(\"Sum of Cols: \", np.sum(arr, axis = 0))"
   ]
  }
 ],
 "metadata": {
  "kernelspec": {
   "display_name": "Python 3",
   "language": "python",
   "name": "python3"
  },
  "language_info": {
   "codemirror_mode": {
    "name": "ipython",
    "version": 3
   },
   "file_extension": ".py",
   "mimetype": "text/x-python",
   "name": "python",
   "nbconvert_exporter": "python",
   "pygments_lexer": "ipython3",
   "version": "3.8.8"
  }
 },
 "nbformat": 4,
 "nbformat_minor": 5
}
