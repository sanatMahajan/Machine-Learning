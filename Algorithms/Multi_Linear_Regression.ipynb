{
 "cells": [
  {
   "cell_type": "markdown",
   "metadata": {},
   "source": [
    "### Multi Linear Regression"
   ]
  },
  {
   "cell_type": "code",
   "execution_count": 13,
   "metadata": {},
   "outputs": [],
   "source": [
    "from sklearn import linear_model\n",
    "import numpy as np"
   ]
  },
  {
   "cell_type": "code",
   "execution_count": 14,
   "metadata": {},
   "outputs": [],
   "source": [
    "\n",
    "data = np.array([[2017,12,2.75,5.3],\n",
    "                [2017,11,2.5,5.3],\n",
    "                [2017,10,2.5,5.3],\n",
    "                [2017,9,2.5,5.3],\n",
    "                [2017,8,2.5,5.4],\n",
    "                [2017,7,2.5,5.6],\n",
    "                [2017,6,2.5,5.5],\n",
    "                [2017,5,2.25,5.5],\n",
    "                [2017,4,2.25,5.5],\n",
    "                [2017,3,2.25,5.6],\n",
    "                [2017,2,2,5.7],\n",
    "                [2017,1,2,5.9],\n",
    "                [2016,12,2,6],\n",
    "                [2016,11,1.75,5.9],\n",
    "                [2016,10,1.75,5.8],\n",
    "                [2016,9,1.75,6.1],\n",
    "                [2016,8,1.75,6.2],\n",
    "                [2016,7,1.75,6.1],\n",
    "                [2016,6,1.75,6.1],\n",
    "                [2016,5,1.75,6.1],\n",
    "                [2016,4,1.75,5.9],\n",
    "                [2016,3,1.75,6.2],\n",
    "                [2016,2,1.75,6.2],\n",
    "                [2016,1,1.75,6.1]])\n",
    "Y = np.array([1464,1394,1357,1293,1256,1254,1234,1195,1159,1167,1130,1075,1047,965,943,958,971,949,884,866,876,822,704,719])"
   ]
  },
  {
   "cell_type": "code",
   "execution_count": 15,
   "metadata": {},
   "outputs": [
    {
     "name": "stdout",
     "output_type": "stream",
     "text": [
      "[[2.75 5.3 ]\n",
      " [2.5  5.3 ]\n",
      " [2.5  5.3 ]\n",
      " [2.5  5.3 ]\n",
      " [2.5  5.4 ]\n",
      " [2.5  5.6 ]\n",
      " [2.5  5.5 ]\n",
      " [2.25 5.5 ]\n",
      " [2.25 5.5 ]\n",
      " [2.25 5.6 ]\n",
      " [2.   5.7 ]\n",
      " [2.   5.9 ]\n",
      " [2.   6.  ]\n",
      " [1.75 5.9 ]\n",
      " [1.75 5.8 ]\n",
      " [1.75 6.1 ]\n",
      " [1.75 6.2 ]\n",
      " [1.75 6.1 ]\n",
      " [1.75 6.1 ]\n",
      " [1.75 6.1 ]\n",
      " [1.75 5.9 ]\n",
      " [1.75 6.2 ]\n",
      " [1.75 6.2 ]\n",
      " [1.75 6.1 ]]\n"
     ]
    }
   ],
   "source": [
    "\n",
    "X = data[:,2:]\n",
    "print(X)"
   ]
  },
  {
   "cell_type": "code",
   "execution_count": 16,
   "metadata": {},
   "outputs": [
    {
     "data": {
      "text/plain": [
       "LinearRegression(copy_X=True, fit_intercept=True, n_jobs=1, normalize=False)"
      ]
     },
     "execution_count": 16,
     "metadata": {},
     "output_type": "execute_result"
    }
   ],
   "source": [
    "linreg = linear_model.LinearRegression()\n",
    "linreg.fit(X,Y)"
   ]
  },
  {
   "cell_type": "code",
   "execution_count": 17,
   "metadata": {},
   "outputs": [
    {
     "name": "stdout",
     "output_type": "stream",
     "text": [
      "[865.8639942]\n"
     ]
    }
   ],
   "source": [
    "predict = linreg.predict([[1.5,5.8]])\n",
    "print(predict)"
   ]
  }
 ],
 "metadata": {
  "kernelspec": {
   "display_name": "Python 3",
   "language": "python",
   "name": "python3"
  },
  "language_info": {
   "codemirror_mode": {
    "name": "ipython",
    "version": 3
   },
   "file_extension": ".py",
   "mimetype": "text/x-python",
   "name": "python",
   "nbconvert_exporter": "python",
   "pygments_lexer": "ipython3",
   "version": "3.5.1"
  }
 },
 "nbformat": 4,
 "nbformat_minor": 2
}
