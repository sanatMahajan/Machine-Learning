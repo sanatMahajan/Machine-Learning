{
 "cells": [
  {
   "cell_type": "code",
   "execution_count": 3,
   "id": "acdf47bb",
   "metadata": {},
   "outputs": [
    {
     "name": "stdout",
     "output_type": "stream",
     "text": [
      "['Hi', 'there', 'Class!']\n"
     ]
    }
   ],
   "source": [
    "s = \"Hi there Class!\"\n",
    "s_list = s.split()\n",
    "print(s_list)"
   ]
  },
  {
   "cell_type": "markdown",
   "id": "ab548b2f",
   "metadata": {},
   "source": [
    "### Q2. Given the variables\n",
    "planet = \"Earth\"\n",
    "diameter = 12742\n",
    "Use .format() to print the following string:\n",
    "The diameter of Earth is 12742 kilometers."
   ]
  },
  {
   "cell_type": "code",
   "execution_count": 4,
   "id": "d082df7e",
   "metadata": {},
   "outputs": [
    {
     "name": "stdout",
     "output_type": "stream",
     "text": [
      "The diameter of Earth is 12742 kilometers\n"
     ]
    }
   ],
   "source": [
    "planet = \"Earth\"\n",
    "diameter = 12742\n",
    "print(\"The diameter of {} is {} kilometers\".format(planet, diameter))"
   ]
  },
  {
   "cell_type": "markdown",
   "id": "8fe8a0ab",
   "metadata": {},
   "source": [
    "### Q3. Given this nested list, use indexing to grab the word \"hello\"\n",
    "lst = [1,2,[3,4],[5,[100,200,['hello']],23,11],1,7]"
   ]
  },
  {
   "cell_type": "code",
   "execution_count": 5,
   "id": "f7fee539",
   "metadata": {},
   "outputs": [
    {
     "name": "stdout",
     "output_type": "stream",
     "text": [
      "hello\n"
     ]
    }
   ],
   "source": [
    "lst = [1,2,[3,4],[5,[100,200,['hello']],23,11],1,7]\n",
    "print(lst[3][1][2][0])"
   ]
  },
  {
   "cell_type": "markdown",
   "id": "fe90c991",
   "metadata": {},
   "source": [
    "### Q4. Given this nested dictionary grab the word \"hello\".\n",
    "d = {'k1':[1,2,3,{'tricky':['oh','man','inception',{'target':[1,2,3,'hello']}]}]}"
   ]
  },
  {
   "cell_type": "code",
   "execution_count": 6,
   "id": "69482f57",
   "metadata": {},
   "outputs": [
    {
     "name": "stdout",
     "output_type": "stream",
     "text": [
      "hello\n"
     ]
    }
   ],
   "source": [
    "d = {'k1':[1,2,3,{'tricky':['oh','man','inception',{'target':[1,2,3,'hello']}]}]}\n",
    "print(d['k1'][3]['tricky'][3]['target'][3])"
   ]
  },
  {
   "cell_type": "markdown",
   "id": "b1907303",
   "metadata": {},
   "source": [
    "### Q5. Create a function that grabs the email website domain from a string in the form:\n",
    "user@domain.com"
   ]
  },
  {
   "cell_type": "code",
   "execution_count": 7,
   "id": "c14a8247",
   "metadata": {},
   "outputs": [
    {
     "name": "stdout",
     "output_type": "stream",
     "text": [
      "domain\n"
     ]
    }
   ],
   "source": [
    "st = \"user@domain.com\"\n",
    "dm = st.split('.')[0].split('@')[1]\n",
    "print(dm)"
   ]
  },
  {
   "cell_type": "markdown",
   "id": "c72dac7a",
   "metadata": {},
   "source": [
    "### Q6. Create a basic function that returns True if the word 'dog' is contained in the input string. "
   ]
  },
  {
   "cell_type": "code",
   "execution_count": 12,
   "id": "bb2adcc3",
   "metadata": {},
   "outputs": [
    {
     "name": "stdout",
     "output_type": "stream",
     "text": [
      "True\n",
      "False\n"
     ]
    }
   ],
   "source": [
    "def check(st):\n",
    "    if \"dog\" in st:\n",
    "        return True\n",
    "    return False\n",
    "\n",
    "print(check(\"My dog eats a lot\"))\n",
    "print(check(\"I eat a lot\"))"
   ]
  },
  {
   "cell_type": "markdown",
   "id": "0b7cd320",
   "metadata": {},
   "source": [
    "### Q7. Create a function that counts the number of times the word \"dog\" occurs in a string.\n"
   ]
  },
  {
   "cell_type": "code",
   "execution_count": 17,
   "id": "152153b9",
   "metadata": {},
   "outputs": [
    {
     "name": "stdout",
     "output_type": "stream",
     "text": [
      "2\n"
     ]
    }
   ],
   "source": [
    "def count(st):\n",
    "    lst = st.split()\n",
    "    cnt = 0\n",
    "    for wd in lst:\n",
    "        if (len(wd) >= 3 and wd[:3].lower() == \"dog\"):\n",
    "            cnt += 1\n",
    "    return cnt\n",
    "\n",
    "stg = \"I love dogs. I need a dog\"\n",
    "\n",
    "print(count(stg))"
   ]
  },
  {
   "cell_type": "markdown",
   "id": "f8f419e9",
   "metadata": {},
   "source": [
    "### Q8. Use lambda expressions and the filter() function to filter out words from a list that don't start with the\n",
    "letter 's'.\n",
    "For example: seq = ['soup','dog','salad','cat','great']"
   ]
  },
  {
   "cell_type": "code",
   "execution_count": 19,
   "id": "fe5cd0fd",
   "metadata": {},
   "outputs": [
    {
     "name": "stdout",
     "output_type": "stream",
     "text": [
      "['soup', 'salad']\n"
     ]
    }
   ],
   "source": [
    "seq = ['soup','dog','salad','cat','great']\n",
    "lst = list(filter(lambda word: word[0] == 's', seq))\n",
    "print(lst)"
   ]
  },
  {
   "cell_type": "markdown",
   "id": "84bea254",
   "metadata": {},
   "source": [
    "### Q9. You are driving a little too fast, and a police officer stops you. Write a function to return one of 3 pos\n",
    "sible results: \"No Challan\", \"Small Challan\", or \"Heavy Challan\". If your speed is 60 or less, the result is\n",
    "\"No Challan\". If speed is between 61 and 80 inclusive, the result is \"Small Challan\". If speed is 81 or mor\n",
    "e, the result is \"Heavy Challan\". Unless it is your birthday (encoded as a Boolean value in the parameters\n",
    "of the function) -- on your birthday, your speed can be 5 higher in all cases.\n",
    "caught_speeding(81,True)\n",
    "caught_speeding(81,False)"
   ]
  },
  {
   "cell_type": "code",
   "execution_count": 25,
   "id": "689868c6",
   "metadata": {},
   "outputs": [
    {
     "name": "stdout",
     "output_type": "stream",
     "text": [
      "Small Challan\n",
      "Heavy Challan\n"
     ]
    }
   ],
   "source": [
    "def caught_speeding(speed, bday):\n",
    "    if bday:\n",
    "        speed -= 5\n",
    "    if speed <= 60:\n",
    "        print(\"No Challan\")\n",
    "    elif speed <= 80:\n",
    "        print(\"Small Challan\")\n",
    "    else:\n",
    "        print(\"Heavy Challan\")\n",
    "caught_speeding(81,True)\n",
    "caught_speeding(81,False)"
   ]
  },
  {
   "cell_type": "markdown",
   "id": "110f6f1d",
   "metadata": {},
   "source": [
    "### Q10. Concatenate two lists index-wise\n",
    "list1 = [\"M\", \"na\", \"i\", \"She\"]\n",
    "list2 = [\"y\", \"me\", \"s\", \"lly\"]\n",
    "Expected Outcome: ['My', 'name', 'is', 'Shelly']"
   ]
  },
  {
   "cell_type": "code",
   "execution_count": 26,
   "id": "23a8f49d",
   "metadata": {},
   "outputs": [
    {
     "name": "stdout",
     "output_type": "stream",
     "text": [
      "['My', 'name', 'is', 'Shelly']\n"
     ]
    }
   ],
   "source": [
    "list1 = [\"M\", \"na\", \"i\", \"She\"] \n",
    "list2 = [\"y\", \"me\", \"s\", \"lly\"]\n",
    "lst = []\n",
    "for i in range(len(list1)):\n",
    "    lst.append(list1[i]+list2[i])\n",
    "print(lst)"
   ]
  },
  {
   "cell_type": "markdown",
   "id": "03798a27",
   "metadata": {},
   "source": [
    "### Q11. Concatenate two lists in the following order\n",
    "list1 = [\"Hello \", \"take \"]\n",
    "list2 = [\"Dear\", \"Sir\"]\n",
    "Expected Output: ['Hello Dear', 'Hello Sir', 'take Dear', 'take Sir']\n"
   ]
  },
  {
   "cell_type": "code",
   "execution_count": 27,
   "id": "025126a6",
   "metadata": {},
   "outputs": [
    {
     "name": "stdout",
     "output_type": "stream",
     "text": [
      "['Hello Dear', 'Hello Sir', 'take Dear', 'take Sir']\n"
     ]
    }
   ],
   "source": [
    "list1 = [\"Hello \", \"take \"] \n",
    "list2 = [\"Dear\", \"Sir\"] \n",
    "lst = []\n",
    "for i in range(len(list1)):\n",
    "    for j in range(len(list2)):\n",
    "        lst.append(list1[i]+list2[j])\n",
    "print(lst)"
   ]
  },
  {
   "cell_type": "markdown",
   "id": "f323dce1",
   "metadata": {},
   "source": [
    "### Q12. Add item 7000 after 6000 in the following Python List\n",
    "list1 = [10, 20, [300, 400, [5000, 6000], 500], 30, 40]\n"
   ]
  },
  {
   "cell_type": "code",
   "execution_count": 28,
   "id": "855e4aa2",
   "metadata": {},
   "outputs": [
    {
     "name": "stdout",
     "output_type": "stream",
     "text": [
      "[10, 20, [300, 400, [5000, 6000, 7000], 500], 30, 40]\n"
     ]
    }
   ],
   "source": [
    "list1 = [10, 20, [300, 400, [5000, 6000], 500], 30, 40]\n",
    "list1[2][2].append(7000)\n",
    "print(list1)"
   ]
  },
  {
   "cell_type": "markdown",
   "id": "157d9a5d",
   "metadata": {},
   "source": [
    "### Q13. Given a Python list, remove all occurrence of 20 from the list\n",
    "list1 = [5, 20, 15, 20, 25, 50, 20]\n"
   ]
  },
  {
   "cell_type": "code",
   "execution_count": 30,
   "id": "6714445d",
   "metadata": {},
   "outputs": [
    {
     "name": "stdout",
     "output_type": "stream",
     "text": [
      "[5, 15, 25, 50]\n"
     ]
    }
   ],
   "source": [
    "list1 = [5, 20, 15, 20, 25, 50, 20]\n",
    "res = [i for i in list1 if i != 20]\n",
    "print(res)"
   ]
  },
  {
   "cell_type": "markdown",
   "id": "ac9d5f6c",
   "metadata": {},
   "source": [
    "### Q14. Check if a value 200 exists in a dictionary\n",
    "d1 = {'a': 100, 'b': 200, 'c': 300}"
   ]
  },
  {
   "cell_type": "code",
   "execution_count": 31,
   "id": "705ef14c",
   "metadata": {},
   "outputs": [
    {
     "name": "stdout",
     "output_type": "stream",
     "text": [
      "Yes\n"
     ]
    }
   ],
   "source": [
    "d1 = {'a': 100, 'b': 200, 'c': 300}\n",
    "if(200 in d1.values()):\n",
    "    print(\"Yes\")\n",
    "else:\n",
    "    print(\"No\")"
   ]
  },
  {
   "cell_type": "markdown",
   "id": "0b6c8b43",
   "metadata": {},
   "source": [
    "### Q15. Find the sum of the series 2 +22 + 222 + 2222 + .. n terms"
   ]
  },
  {
   "cell_type": "code",
   "execution_count": 33,
   "id": "b300826e",
   "metadata": {},
   "outputs": [
    {
     "name": "stdout",
     "output_type": "stream",
     "text": [
      "246.0\n"
     ]
    }
   ],
   "source": [
    "n = 3\n",
    "sum_series = 2*(pow(10,n+1)-9*n-10)/81\n",
    "print(sum_series)"
   ]
  }
 ],
 "metadata": {
  "kernelspec": {
   "display_name": "Python 3",
   "language": "python",
   "name": "python3"
  },
  "language_info": {
   "codemirror_mode": {
    "name": "ipython",
    "version": 3
   },
   "file_extension": ".py",
   "mimetype": "text/x-python",
   "name": "python",
   "nbconvert_exporter": "python",
   "pygments_lexer": "ipython3",
   "version": "3.8.8"
  }
 },
 "nbformat": 4,
 "nbformat_minor": 5
}
