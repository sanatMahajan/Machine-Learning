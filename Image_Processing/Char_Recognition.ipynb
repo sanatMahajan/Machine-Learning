{
  "nbformat": 4,
  "nbformat_minor": 0,
  "metadata": {
    "colab": {
      "name": "ELC_2021.ipynb",
      "provenance": []
    },
    "kernelspec": {
      "name": "python3",
      "display_name": "Python 3"
    },
    "language_info": {
      "name": "python"
    }
  },
  "cells": [
    {
      "cell_type": "code",
      "metadata": {
        "id": "FG1TY8oZEtqG",
        "colab": {
          "base_uri": "https://localhost:8080/"
        },
        "outputId": "1ef7dd67-a096-4b77-dbf2-87875d5c4bcb"
      },
      "source": [
        "from google.colab import drive\n",
        "drive.mount('/content/drive')"
      ],
      "execution_count": null,
      "outputs": [
        {
          "output_type": "stream",
          "text": [
            "Mounted at /content/drive\n"
          ],
          "name": "stdout"
        }
      ]
    },
    {
      "cell_type": "code",
      "metadata": {
        "id": "9f5gBzD6CtFl"
      },
      "source": [
        "import zipfile\n",
        "import os\n",
        "zip_ref=zipfile.ZipFile('/content/drive/MyDrive/ELC-main/train_EC.zip','r')\n",
        "zip_ref.extractall('/content/drive/MyDrive/ELC-main/new_data')"
      ],
      "execution_count": null,
      "outputs": []
    },
    {
      "cell_type": "code",
      "metadata": {
        "id": "YMpHA7Q1Px_X"
      },
      "source": [
        "import io\n",
        "import os\n",
        "from PIL import Image\n",
        "import numpy as np\n",
        "from numpy import mean, std\n",
        "import matplotlib.pyplot as plt\n",
        "from scipy import fftpack\n",
        "from scipy import ndimage\n",
        "from sklearn import svm, metrics\n",
        "import keras\n",
        "from sklearn.metrics import classification_report, confusion_matrix\n",
        "import imageio\n",
        "import matplotlib.image as mpimage\n",
        "import cv2\n",
        "import glob\n",
        "import h5py\n",
        "from sklearn.preprocessing import LabelEncoder\n",
        "from sklearn.preprocessing import MinMaxScaler\n",
        "import matplotlib.pyplot as plt\n",
        "from sklearn.model_selection import train_test_split, cross_val_score, GridSearchCV, KFold, cross_val_predict\n",
        "\n",
        "import datetime as dt\n",
        "from six.moves import range"
      ],
      "execution_count": null,
      "outputs": []
    },
    {
      "cell_type": "code",
      "metadata": {
        "id": "h-jD2w58Px_i"
      },
      "source": [
        "train_path=\"/content/drive/MyDrive/ELC-main/new_data/train_EC\""
      ],
      "execution_count": null,
      "outputs": []
    },
    {
      "cell_type": "code",
      "metadata": {
        "id": "K3Hvehi5Px_m",
        "colab": {
          "base_uri": "https://localhost:8080/"
        },
        "outputId": "c09a016b-4cea-4d10-d509-10bf0d46c60c"
      },
      "source": [
        "pixel_depth=255.0\n",
        "train_labels=os.listdir(train_path)\n",
        "test_labels=os.listdir(train_path)\n",
        "train_labels.sort()\n",
        "test_labels.sort()\n",
        "print(train_labels)\n",
        "nb_classes= 10\n",
        "global_features_train=[]\n",
        "train_classes=[]\n",
        "test_classes=[]\n",
        "\n",
        "\n",
        "i,j=0,0\n",
        "k=0\n"
      ],
      "execution_count": null,
      "outputs": [
        {
          "output_type": "stream",
          "text": [
            "['a', 'b', 'c', 'd', 'e', 'f', 'g', 'h', 'i', 'j']\n"
          ],
          "name": "stdout"
        }
      ]
    },
    {
      "cell_type": "code",
      "metadata": {
        "id": "jIocM7_5Px_y",
        "colab": {
          "base_uri": "https://localhost:8080/"
        },
        "outputId": "8839be05-2392-49a9-9054-906c25c9af2a"
      },
      "source": [
        "for training_name in train_labels:\n",
        "    path=os.path.join(train_path,training_name,'*')\n",
        "    files=glob.glob(path)\n",
        "    current_label=training_name\n",
        "    k=1\n",
        "    for fl in files:\n",
        "        image=(plt.imread(fl).astype(float)-pixel_depth/2)/pixel_depth\n",
        "        global_feature=np.hstack([image])\n",
        "        train_classes.append(current_label)\n",
        "        global_features_train.append(global_feature)\n",
        "        i+=1\n",
        "        k+1\n",
        "    print(\"[status] processed folder: {}\".format(current_label))\n",
        "    j+=1\n",
        "print(\"[status] completed global feature extraction..\")\n",
        "print(\"[status] feature vector size {}\".format(np.array(global_features_train).shape))\n",
        "print(\"[status] training labels {}\".format(np.array(train_classes).shape))\n"
      ],
      "execution_count": null,
      "outputs": [
        {
          "output_type": "stream",
          "text": [
            "[status] processed folder: a\n",
            "[status] processed folder: b\n",
            "[status] processed folder: c\n",
            "[status] processed folder: d\n",
            "[status] processed folder: e\n",
            "[status] processed folder: f\n",
            "[status] processed folder: g\n",
            "[status] processed folder: h\n",
            "[status] processed folder: i\n",
            "[status] processed folder: j\n",
            "[status] completed global feature extraction..\n",
            "[status] feature vector size (835, 32, 32)\n",
            "[status] training labels (835,)\n"
          ],
          "name": "stdout"
        }
      ]
    },
    {
      "cell_type": "markdown",
      "metadata": {
        "id": "Yi0jhbcyOadT"
      },
      "source": [
        "# New Section"
      ]
    },
    {
      "cell_type": "code",
      "metadata": {
        "id": "qAfLaR9cPx_5",
        "colab": {
          "base_uri": "https://localhost:8080/"
        },
        "outputId": "69801033-7fcd-44db-929d-f02a35a8246e"
      },
      "source": [
        "#labels = (np.arange(nb_classes) == labels[:,None]).astype(np.float32)\n",
        "targetNames=np.unique(train_classes)\n",
        "le=LabelEncoder()\n",
        "target=le.fit_transform(train_classes)\n",
        "print(\"[status] training labels encoded...\")"
      ],
      "execution_count": null,
      "outputs": [
        {
          "output_type": "stream",
          "text": [
            "[status] training labels encoded...\n"
          ],
          "name": "stdout"
        }
      ]
    },
    {
      "cell_type": "code",
      "metadata": {
        "id": "I-Zb6mQePx_8"
      },
      "source": [
        "n_samples, nx, ny=np.array(global_features_train).shape\n",
        "d2_global_features=np.array(global_features_train).reshape((n_samples, nx*ny))\n",
        "#scaler=MinMaxScaler(feature_range=(0,1))\n",
        "#rescaled_features=scaler.fit_transform(d2_global_features)"
      ],
      "execution_count": null,
      "outputs": []
    },
    {
      "cell_type": "code",
      "metadata": {
        "id": "nJLFI0MNPx__",
        "colab": {
          "base_uri": "https://localhost:8080/"
        },
        "outputId": "f639c119-9f1e-48b9-cdce-4f51fac1b5e4"
      },
      "source": [
        "print(\"[Status] feature vector normalized...\")\n",
        "\n",
        "print(\"[Status] target label{}\".format(target))\n",
        "print(\"[Status] target label shape {}\".format(target.shape))\n"
      ],
      "execution_count": null,
      "outputs": [
        {
          "output_type": "stream",
          "text": [
            "[Status] feature vector normalized...\n",
            "[Status] target label[0 0 0 0 0 0 0 0 0 0 0 0 0 0 0 0 0 0 0 0 0 0 0 0 0 0 0 0 0 0 0 0 0 0 0 0 0\n",
            " 0 0 0 0 0 0 0 0 0 0 0 0 0 0 0 0 0 0 0 0 0 0 0 0 0 0 0 0 0 0 0 0 0 0 0 0 0\n",
            " 0 0 0 0 0 0 0 0 0 0 0 0 0 0 0 0 0 0 0 0 0 0 0 0 0 0 1 1 1 1 1 1 1 1 1 1 1\n",
            " 1 1 1 1 1 1 1 1 1 1 1 1 1 1 1 1 1 1 1 1 1 1 1 1 1 1 1 1 1 1 1 1 1 1 1 1 1\n",
            " 1 1 1 1 1 1 1 1 1 1 1 1 1 1 1 1 1 1 1 1 1 1 1 1 1 1 1 1 1 1 1 1 1 1 1 1 1\n",
            " 1 1 1 1 1 1 1 1 1 1 1 1 1 1 1 2 2 2 2 2 2 2 2 2 2 2 2 2 2 2 2 2 2 2 2 2 2\n",
            " 2 2 2 2 2 2 2 2 2 2 2 2 2 2 2 2 2 2 2 2 2 2 2 2 2 2 2 2 2 2 2 2 2 2 2 2 2\n",
            " 2 2 2 2 2 2 2 2 2 2 2 2 2 2 2 2 2 2 2 2 2 2 2 2 2 2 2 2 2 2 2 2 2 2 2 2 2\n",
            " 2 2 2 2 3 3 3 3 3 3 3 3 3 3 3 3 3 3 3 3 3 3 3 3 3 3 3 3 3 3 3 3 3 3 3 3 3\n",
            " 3 3 3 3 3 3 3 3 3 3 3 3 3 3 3 3 3 3 3 3 3 3 3 3 3 3 3 3 3 3 3 3 3 3 3 3 3\n",
            " 3 3 3 3 3 3 3 3 3 3 3 3 3 3 3 3 3 3 3 3 3 3 3 3 3 3 3 3 3 4 4 4 4 4 4 4 4\n",
            " 4 4 4 4 4 4 4 4 4 4 4 4 4 4 4 4 4 4 4 4 4 4 4 4 4 4 4 4 4 4 4 4 4 4 4 4 4\n",
            " 4 4 4 4 4 4 4 4 4 4 4 4 4 4 4 4 4 4 4 4 4 4 4 4 4 4 4 4 4 4 4 4 4 4 4 4 4\n",
            " 4 4 4 4 4 4 4 4 4 4 4 4 4 4 4 4 4 4 5 5 5 5 5 5 5 5 5 5 5 5 5 5 5 5 5 5 5\n",
            " 5 5 5 5 5 5 5 5 5 5 5 5 5 5 5 5 5 5 5 5 5 5 5 5 5 5 5 5 5 5 5 5 5 5 5 6 6\n",
            " 6 6 6 6 6 6 6 6 6 6 6 6 6 6 6 6 6 6 6 6 6 6 6 6 6 6 6 6 6 6 6 6 6 6 6 6 6\n",
            " 6 6 6 6 6 6 6 6 6 6 6 6 6 6 6 6 6 6 6 6 6 6 6 6 6 6 6 6 6 6 6 6 6 6 6 6 6\n",
            " 6 6 6 6 6 6 6 6 6 6 6 6 6 6 6 6 6 6 6 6 6 6 6 6 7 7 7 7 7 7 7 7 7 7 7 7 7\n",
            " 7 7 7 7 7 7 7 7 7 7 7 7 7 7 7 7 7 7 7 7 7 7 7 7 7 7 7 7 7 7 7 7 7 7 7 7 7\n",
            " 7 7 7 7 7 7 7 7 7 7 7 7 7 7 7 7 7 7 7 7 7 7 7 7 7 7 7 7 7 7 7 7 7 7 7 7 7\n",
            " 7 7 7 7 7 7 7 7 7 7 7 7 7 8 8 8 8 8 8 8 8 8 8 8 8 8 8 8 8 8 8 8 8 8 8 8 8\n",
            " 8 8 8 8 9 9 9 9 9 9 9 9 9 9 9 9 9 9 9 9 9 9 9 9 9 9 9 9 9 9 9 9 9 9 9 9 9\n",
            " 9 9 9 9 9 9 9 9 9 9 9 9 9 9 9 9 9 9 9 9 9]\n",
            "[Status] target label shape (835,)\n"
          ],
          "name": "stdout"
        }
      ]
    },
    {
      "cell_type": "code",
      "metadata": {
        "id": "bOzAIpgvPyAC",
        "colab": {
          "base_uri": "https://localhost:8080/"
        },
        "outputId": "691afea0-1753-42b7-91dc-4bcf27093708"
      },
      "source": [
        "h5f_data=h5py.File('/content/drive/MyDrive/ELC-main/new_data/data.h5','w')\n",
        "h5f_data.create_dataset('dataset_1',data=np.array(d2_global_features))\n",
        "\n",
        "h5f_label=h5py.File('/content/drive/MyDrive/ELC-main/new_data/labels.h5','w')\n",
        "h5f_label.create_dataset('dataset_1',data=np.array(target))\n"
      ],
      "execution_count": null,
      "outputs": [
        {
          "output_type": "execute_result",
          "data": {
            "text/plain": [
              "<HDF5 dataset \"dataset_1\": shape (835,), type \"<i8\">"
            ]
          },
          "metadata": {
            "tags": []
          },
          "execution_count": 10
        }
      ]
    },
    {
      "cell_type": "code",
      "metadata": {
        "id": "BrYRXZAKPyAD"
      },
      "source": [
        "h5f_data.close()\n",
        "h5f_label.close()"
      ],
      "execution_count": null,
      "outputs": []
    },
    {
      "cell_type": "code",
      "metadata": {
        "id": "TOaxCwtMS2Cq"
      },
      "source": [
        "h5f_data=h5py.File('/content/drive/MyDrive/ELC-main/new_data/data.h5','r')\n",
        "h5f_label=h5py.File('/content/drive/MyDrive/ELC-main/new_data/labels.h5','r')\n"
      ],
      "execution_count": null,
      "outputs": []
    },
    {
      "cell_type": "code",
      "metadata": {
        "id": "uHbSnNqrS2Ct"
      },
      "source": [
        "global_features_string_train= h5f_data['dataset_1']\n",
        "global_labels_string_train=h5f_label['dataset_1']\n",
        "global_features_train=np.array(global_features_string_train)\n",
        "global_labels_train=np.array(global_labels_string_train)\n"
      ],
      "execution_count": null,
      "outputs": []
    },
    {
      "cell_type": "code",
      "metadata": {
        "id": "653A72ZhS2Cu"
      },
      "source": [
        "h5f_data.close()\n",
        "h5f_label.close()"
      ],
      "execution_count": null,
      "outputs": []
    },
    {
      "cell_type": "code",
      "metadata": {
        "id": "4kgg23RfS2Cw",
        "colab": {
          "base_uri": "https://localhost:8080/"
        },
        "outputId": "e80d2752-0fab-497e-f421-ff3e084ccd38"
      },
      "source": [
        "print(\"[Status] training feature shape: {}\".format(global_features_train.shape))\n",
        "\n",
        "print(\"[Status] labels shape: {}\".format(global_labels_train.shape))"
      ],
      "execution_count": null,
      "outputs": [
        {
          "output_type": "stream",
          "text": [
            "[Status] training feature shape: (835, 1024)\n",
            "[Status] labels shape: (835,)\n"
          ],
          "name": "stdout"
        }
      ]
    },
    {
      "cell_type": "code",
      "metadata": {
        "id": "9usEH4PzS2C0"
      },
      "source": [
        "clf = svm.SVC(kernel='rbf')"
      ],
      "execution_count": null,
      "outputs": []
    },
    {
      "cell_type": "code",
      "metadata": {
        "id": "KDTIZ-CnS2DB",
        "colab": {
          "base_uri": "https://localhost:8080/"
        },
        "outputId": "b36def4d-6989-453b-f275-fbaab4a1c951"
      },
      "source": [
        "for sz in range(2,11):\n",
        "  cv = KFold(n_splits=sz, random_state=1, shuffle=True)\n",
        "  scores = cross_val_score(clf,global_features_train,global_labels_train , scoring='accuracy', cv=cv, n_jobs=-1)\n",
        "  print('*'*50)\n",
        "  print(\"Fold Size: \", sz)\n",
        "  print('Accuracy: %.1f %%' % (mean(scores)*100))\n",
        "  y_pred = cross_val_predict(clf, global_features_train,global_labels_train , cv=10)\n",
        "  conf_mat = confusion_matrix(global_labels_train, y_pred)\n",
        "  print(\"Confusion matrix:\\n%s\" % conf_mat)"
      ],
      "execution_count": null,
      "outputs": [
        {
          "output_type": "stream",
          "text": [
            "**************************************************\n",
            "Fold Size:  2\n",
            "Accuracy: 82.9 %\n",
            "Confusion matrix:\n",
            "[[85  4  0  4  0  1  3  3  0  0]\n",
            " [ 7 86  0  4  1  0  1  0  0  1]\n",
            " [ 0  2 90  2  4  0  2  0  0  0]\n",
            " [ 7  7  1 82  0  0  1  0  1  0]\n",
            " [ 0  0 10  1 88  1  0  0  0  0]\n",
            " [ 0  2  0  1  0 47  2  0  0  2]\n",
            " [ 0  0  0  2  0  2 95  1  0  0]\n",
            " [ 6  2  1  1  1  0  3 86  0  0]\n",
            " [ 0  1  1  0  0  5  2  0  9 10]\n",
            " [ 0  0  2  3  0  2  3  0  1 43]]\n",
            "**************************************************\n",
            "Fold Size:  3\n",
            "Accuracy: 85.5 %\n",
            "Confusion matrix:\n",
            "[[85  4  0  4  0  1  3  3  0  0]\n",
            " [ 7 86  0  4  1  0  1  0  0  1]\n",
            " [ 0  2 90  2  4  0  2  0  0  0]\n",
            " [ 7  7  1 82  0  0  1  0  1  0]\n",
            " [ 0  0 10  1 88  1  0  0  0  0]\n",
            " [ 0  2  0  1  0 47  2  0  0  2]\n",
            " [ 0  0  0  2  0  2 95  1  0  0]\n",
            " [ 6  2  1  1  1  0  3 86  0  0]\n",
            " [ 0  1  1  0  0  5  2  0  9 10]\n",
            " [ 0  0  2  3  0  2  3  0  1 43]]\n",
            "**************************************************\n",
            "Fold Size:  4\n",
            "Accuracy: 85.6 %\n",
            "Confusion matrix:\n",
            "[[85  4  0  4  0  1  3  3  0  0]\n",
            " [ 7 86  0  4  1  0  1  0  0  1]\n",
            " [ 0  2 90  2  4  0  2  0  0  0]\n",
            " [ 7  7  1 82  0  0  1  0  1  0]\n",
            " [ 0  0 10  1 88  1  0  0  0  0]\n",
            " [ 0  2  0  1  0 47  2  0  0  2]\n",
            " [ 0  0  0  2  0  2 95  1  0  0]\n",
            " [ 6  2  1  1  1  0  3 86  0  0]\n",
            " [ 0  1  1  0  0  5  2  0  9 10]\n",
            " [ 0  0  2  3  0  2  3  0  1 43]]\n",
            "**************************************************\n",
            "Fold Size:  5\n",
            "Accuracy: 86.2 %\n",
            "Confusion matrix:\n",
            "[[85  4  0  4  0  1  3  3  0  0]\n",
            " [ 7 86  0  4  1  0  1  0  0  1]\n",
            " [ 0  2 90  2  4  0  2  0  0  0]\n",
            " [ 7  7  1 82  0  0  1  0  1  0]\n",
            " [ 0  0 10  1 88  1  0  0  0  0]\n",
            " [ 0  2  0  1  0 47  2  0  0  2]\n",
            " [ 0  0  0  2  0  2 95  1  0  0]\n",
            " [ 6  2  1  1  1  0  3 86  0  0]\n",
            " [ 0  1  1  0  0  5  2  0  9 10]\n",
            " [ 0  0  2  3  0  2  3  0  1 43]]\n",
            "**************************************************\n",
            "Fold Size:  6\n",
            "Accuracy: 86.8 %\n",
            "Confusion matrix:\n",
            "[[85  4  0  4  0  1  3  3  0  0]\n",
            " [ 7 86  0  4  1  0  1  0  0  1]\n",
            " [ 0  2 90  2  4  0  2  0  0  0]\n",
            " [ 7  7  1 82  0  0  1  0  1  0]\n",
            " [ 0  0 10  1 88  1  0  0  0  0]\n",
            " [ 0  2  0  1  0 47  2  0  0  2]\n",
            " [ 0  0  0  2  0  2 95  1  0  0]\n",
            " [ 6  2  1  1  1  0  3 86  0  0]\n",
            " [ 0  1  1  0  0  5  2  0  9 10]\n",
            " [ 0  0  2  3  0  2  3  0  1 43]]\n",
            "**************************************************\n",
            "Fold Size:  7\n",
            "Accuracy: 86.7 %\n",
            "Confusion matrix:\n",
            "[[85  4  0  4  0  1  3  3  0  0]\n",
            " [ 7 86  0  4  1  0  1  0  0  1]\n",
            " [ 0  2 90  2  4  0  2  0  0  0]\n",
            " [ 7  7  1 82  0  0  1  0  1  0]\n",
            " [ 0  0 10  1 88  1  0  0  0  0]\n",
            " [ 0  2  0  1  0 47  2  0  0  2]\n",
            " [ 0  0  0  2  0  2 95  1  0  0]\n",
            " [ 6  2  1  1  1  0  3 86  0  0]\n",
            " [ 0  1  1  0  0  5  2  0  9 10]\n",
            " [ 0  0  2  3  0  2  3  0  1 43]]\n",
            "**************************************************\n",
            "Fold Size:  8\n",
            "Accuracy: 86.7 %\n",
            "Confusion matrix:\n",
            "[[85  4  0  4  0  1  3  3  0  0]\n",
            " [ 7 86  0  4  1  0  1  0  0  1]\n",
            " [ 0  2 90  2  4  0  2  0  0  0]\n",
            " [ 7  7  1 82  0  0  1  0  1  0]\n",
            " [ 0  0 10  1 88  1  0  0  0  0]\n",
            " [ 0  2  0  1  0 47  2  0  0  2]\n",
            " [ 0  0  0  2  0  2 95  1  0  0]\n",
            " [ 6  2  1  1  1  0  3 86  0  0]\n",
            " [ 0  1  1  0  0  5  2  0  9 10]\n",
            " [ 0  0  2  3  0  2  3  0  1 43]]\n",
            "**************************************************\n",
            "Fold Size:  9\n",
            "Accuracy: 87.3 %\n",
            "Confusion matrix:\n",
            "[[85  4  0  4  0  1  3  3  0  0]\n",
            " [ 7 86  0  4  1  0  1  0  0  1]\n",
            " [ 0  2 90  2  4  0  2  0  0  0]\n",
            " [ 7  7  1 82  0  0  1  0  1  0]\n",
            " [ 0  0 10  1 88  1  0  0  0  0]\n",
            " [ 0  2  0  1  0 47  2  0  0  2]\n",
            " [ 0  0  0  2  0  2 95  1  0  0]\n",
            " [ 6  2  1  1  1  0  3 86  0  0]\n",
            " [ 0  1  1  0  0  5  2  0  9 10]\n",
            " [ 0  0  2  3  0  2  3  0  1 43]]\n",
            "**************************************************\n",
            "Fold Size:  10\n",
            "Accuracy: 87.4 %\n",
            "Confusion matrix:\n",
            "[[85  4  0  4  0  1  3  3  0  0]\n",
            " [ 7 86  0  4  1  0  1  0  0  1]\n",
            " [ 0  2 90  2  4  0  2  0  0  0]\n",
            " [ 7  7  1 82  0  0  1  0  1  0]\n",
            " [ 0  0 10  1 88  1  0  0  0  0]\n",
            " [ 0  2  0  1  0 47  2  0  0  2]\n",
            " [ 0  0  0  2  0  2 95  1  0  0]\n",
            " [ 6  2  1  1  1  0  3 86  0  0]\n",
            " [ 0  1  1  0  0  5  2  0  9 10]\n",
            " [ 0  0  2  3  0  2  3  0  1 43]]\n"
          ],
          "name": "stdout"
        }
      ]
    }
  ]
}